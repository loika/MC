{
 "cells": [
  {
   "cell_type": "code",
   "execution_count": 1,
   "metadata": {},
   "outputs": [],
   "source": [
    "#télécharger plots préalabe\n",
    "using Plots\n"
   ]
  },
  {
   "cell_type": "code",
   "execution_count": 2,
   "metadata": {},
   "outputs": [
    {
     "data": {
      "text/plain": [
       "visu (generic function with 1 method)"
      ]
     },
     "execution_count": 2,
     "metadata": {},
     "output_type": "execute_result"
    }
   ],
   "source": [
    "#fonction\n",
    "function verifie(M)\n",
    "    #M une matrice , N la taille de matrice, fin = N-1\n",
    "    N = size(M,1)\n",
    "    fin = N - 1\n",
    "    for i in 1:fin\n",
    "        ii = i+1\n",
    "        j = 1\n",
    "        while j < N\n",
    "            if M[i,j] == 0\n",
    "                j +=1\n",
    "            else\n",
    "                if M[ii,j] == 1 || M[i,j+1] == 1\n",
    "                    return 0\n",
    "                end\n",
    "               j+=2 \n",
    "            end\n",
    "        end\n",
    "        if M[i,N] == 1 && M[ii,N] == 1\n",
    "            return 0\n",
    "        end    \n",
    "    end\n",
    "    j = 1\n",
    "    while j < N\n",
    "        if M[N,j] == 0\n",
    "            j += 1\n",
    "        else\n",
    "            if M[N,j+1] == 1\n",
    "                return 0\n",
    "            end\n",
    "           j += 2 \n",
    "        end\n",
    "    end\n",
    "    return 1\n",
    "end\n",
    "\n",
    "function methode(N,repetition)\n",
    "    somme = 0\n",
    "    fin = N - 1\n",
    "    for i in 1:repetition\n",
    "        somme += verifie(rand([0,1],N,N))\n",
    "    end\n",
    "    return somme / repetition * 100 \n",
    "end\n",
    "\n",
    "function graphique(I,repetition)\n",
    "    X = 2:I\n",
    "    Y = [methode(N,repetition) for N ∈ X]\n",
    "    \n",
    "    plot(X,Y,title=\"graphique de la répartition en pourcentage en fonction de la taille de la matrice :rep $(repetition)\")\n",
    "    xlabel!(\"taille de matrcie\")\n",
    "    ylabel!(\"répartition en pourcentage\")\n",
    "end\n",
    "#\n",
    "\n",
    "function Xt(N)\n",
    "    i = 1\n",
    "    M  = rand([0,1],N,N)\n",
    "    while verifie(M) == 0\n",
    "        M  = rand([0,1],N,N)\n",
    "        i += 1 \n",
    "    end\n",
    "    return i\n",
    "end\n",
    "\n",
    "function visu(N)\n",
    "    Z = Xt(N)\n",
    "    X = 1:N\n",
    "    Y = 1:N\n",
    "    \n",
    "    heatmap(X,Y,Z,color=:Blues)\n",
    "end"
   ]
  },
  {
   "cell_type": "code",
   "execution_count": 3,
   "metadata": {},
   "outputs": [
    {
     "data": {
      "text/plain": [
       "true"
      ]
     },
     "execution_count": 3,
     "metadata": {},
     "output_type": "execute_result"
    }
   ],
   "source": [
    "#teste\n",
    "test_matrices = Dict(\n",
    "    [0 0; 0 0]=>true, \n",
    "    [0 0; 1 0]=>true, \n",
    "    [0 0; 1 1]=>false,\n",
    "    [1 1; 0 0]=>false,\n",
    "    [1 1; 1 1]=>false,\n",
    "    [0 0 0; 0 0 1; 0 1 0] => true,\n",
    "    [0 0 1; 0 0 1;0 0 0] => false\n",
    "    )\n",
    "\n",
    "all([verifie(M)==v for (M,v) ∈ test_matrices])"
   ]
  },
  {
   "cell_type": "code",
   "execution_count": 4,
   "metadata": {},
   "outputs": [
    {
     "ename": "MethodError",
     "evalue": "MethodError: no method matching heatmap_edges(::UnitRange{Int64}, ::Symbol, ::UnitRange{Int64}, ::Symbol, ::Tuple{Int64})\nClosest candidates are:\n  heatmap_edges(::AbstractArray{T,1} where T, ::Symbol, ::AbstractArray{T,1} where T, ::Symbol, !Matched::Tuple{Int64,Int64}) at /home/ubuntu/.julia/packages/Plots/vsE7b/src/utils.jl:232\n  heatmap_edges(::AbstractArray{T,1} where T, ::Symbol) at /home/ubuntu/.julia/packages/Plots/vsE7b/src/utils.jl:227\n  heatmap_edges(::AbstractArray{T,1} where T, ::Symbol, !Matched::Bool) at /home/ubuntu/.julia/packages/Plots/vsE7b/src/utils.jl:227\n  ...",
     "output_type": "error",
     "traceback": [
      "MethodError: no method matching heatmap_edges(::UnitRange{Int64}, ::Symbol, ::UnitRange{Int64}, ::Symbol, ::Tuple{Int64})\nClosest candidates are:\n  heatmap_edges(::AbstractArray{T,1} where T, ::Symbol, ::AbstractArray{T,1} where T, ::Symbol, !Matched::Tuple{Int64,Int64}) at /home/ubuntu/.julia/packages/Plots/vsE7b/src/utils.jl:232\n  heatmap_edges(::AbstractArray{T,1} where T, ::Symbol) at /home/ubuntu/.julia/packages/Plots/vsE7b/src/utils.jl:227\n  heatmap_edges(::AbstractArray{T,1} where T, ::Symbol, !Matched::Bool) at /home/ubuntu/.julia/packages/Plots/vsE7b/src/utils.jl:227\n  ...",
      "",
      "Stacktrace:",
      " [1] gr_add_series(::Plots.Subplot{Plots.GRBackend}, ::Plots.Series) at /home/ubuntu/.julia/packages/Plots/vsE7b/src/backends/gr.jl:1584",
      " [2] gr_display(::Plots.Subplot{Plots.GRBackend}, ::Measures.Length{:mm,Float64}, ::Measures.Length{:mm,Float64}, ::Array{Float64,1}) at /home/ubuntu/.julia/packages/Plots/vsE7b/src/backends/gr.jl:935",
      " [3] gr_display(::Plots.Plot{Plots.GRBackend}, ::String) at /home/ubuntu/.julia/packages/Plots/vsE7b/src/backends/gr.jl:626",
      " [4] _show(::Base.GenericIOBuffer{Array{UInt8,1}}, ::MIME{Symbol(\"image/svg+xml\")}, ::Plots.Plot{Plots.GRBackend}) at /home/ubuntu/.julia/packages/Plots/vsE7b/src/backends/gr.jl:1819",
      " [5] show(::Base.GenericIOBuffer{Array{UInt8,1}}, ::MIME{Symbol(\"image/svg+xml\")}, ::Plots.Plot{Plots.GRBackend}) at /home/ubuntu/.julia/packages/Plots/vsE7b/src/output.jl:215",
      " [6] sprint(::Function, ::MIME{Symbol(\"image/svg+xml\")}, ::Vararg{Any,N} where N; context::Nothing, sizehint::Int64) at ./strings/io.jl:105",
      " [7] sprint at ./strings/io.jl:101 [inlined]",
      " [8] _ijulia_display_dict(::Plots.Plot{Plots.GRBackend}) at /home/ubuntu/.julia/packages/Plots/vsE7b/src/ijulia.jl:53",
      " [9] display_dict(::Plots.Plot{Plots.GRBackend}) at /home/ubuntu/.julia/packages/Plots/vsE7b/src/init.jl:77",
      " [10] #invokelatest#1 at ./essentials.jl:710 [inlined]",
      " [11] invokelatest at ./essentials.jl:709 [inlined]",
      " [12] execute_request(::ZMQ.Socket, ::IJulia.Msg) at /home/ubuntu/.julia/packages/IJulia/IDNmS/src/execute_request.jl:112",
      " [13] #invokelatest#1 at ./essentials.jl:710 [inlined]",
      " [14] invokelatest at ./essentials.jl:709 [inlined]",
      " [15] eventloop(::ZMQ.Socket) at /home/ubuntu/.julia/packages/IJulia/IDNmS/src/eventloop.jl:8",
      " [16] (::IJulia.var\"#15#18\")() at ./task.jl:356"
     ]
    }
   ],
   "source": [
    "visu(3)"
   ]
  },
  {
   "cell_type": "code",
   "execution_count": null,
   "metadata": {},
   "outputs": [],
   "source": []
  },
  {
   "cell_type": "code",
   "execution_count": null,
   "metadata": {},
   "outputs": [],
   "source": []
  }
 ],
 "metadata": {
  "kernelspec": {
   "display_name": "Julia 1.5.3",
   "language": "julia",
   "name": "julia-1.5"
  },
  "language_info": {
   "file_extension": ".jl",
   "mimetype": "application/julia",
   "name": "julia",
   "version": "1.5.3"
  }
 },
 "nbformat": 4,
 "nbformat_minor": 2
}
